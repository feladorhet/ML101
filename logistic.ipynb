{
 "cells": [
  {
   "metadata": {},
   "cell_type": "markdown",
   "source": [
    "# Welcome to our Logistic Regression Workshop!\n",
    "\n",
    "In our previous workshop, we discussed what linear regression is, and how it mathematically looks like. Now, we are going to start learning a more complicated regression algorithm, _logistic regression_. We will start by describing what logistic regression is, then give some mathematical intuition of how it works. Then, similar to previous week, we will implement our own logistic regression model and compare its performance to our linear regression model.\n"
   ],
   "id": "99ee946c4805694b"
  },
  {
   "metadata": {},
   "cell_type": "markdown",
   "source": "Let's start by understanding what _logistic regression_ is.",
   "id": "a396608481b18f0e"
  },
  {
   "metadata": {},
   "cell_type": "markdown",
   "source": [
    "### Logistic Regression\n",
    "\n",
    "- Logistic regression functions are of the form `Y = sigmoid(wX + b)`, where\n",
    "\n",
    "  `Y`: dependent variable vector, the probability that an instance belongs to a particular class\n",
    "\n",
    "  `w`: weight vector, the importance of each independent variable. We will refer to weights as `coefficients` in this workshop, to make the code more understandable.\n",
    "\n",
    "  `X`: independent variable vector, what we base our predictions on\n",
    "\n",
    "  `b`: bias, helps with fitting the model better. We will refer to bias as `intercept` in this workshop, again to make the code more understandable.\n",
    "\n",
    "- The purpose of `finding` the most accurate model requires us to find the best parameters `w` and `b` such that our logistic function fits our dataset well. That is, we try many many many different `w` and `b` values to find the logistic function that helps us the most. But how do we find them?\n"
   ],
   "id": "643d002d0d2d287e"
  },
  {
   "metadata": {},
   "cell_type": "markdown",
   "source": "",
   "id": "8c6c193fbb314a2e"
  }
 ],
 "metadata": {
  "kernelspec": {
   "display_name": "Python 3",
   "language": "python",
   "name": "python3"
  },
  "language_info": {
   "codemirror_mode": {
    "name": "ipython",
    "version": 2
   },
   "file_extension": ".py",
   "mimetype": "text/x-python",
   "name": "python",
   "nbconvert_exporter": "python",
   "pygments_lexer": "ipython2",
   "version": "2.7.6"
  }
 },
 "nbformat": 4,
 "nbformat_minor": 5
}
