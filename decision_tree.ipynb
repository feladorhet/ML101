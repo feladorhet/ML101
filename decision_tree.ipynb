{
 "cells": [
  {
   "metadata": {},
   "cell_type": "markdown",
   "source": [
    "# Welcome to our Decision Trees Workshop!\n",
    "\n",
    "In our previous workshop, we learned logistic regression, a strong classification algorithm that makes use of `sigmoid` function to predict the class to which the objects belong. Now, we are going to learn a new classification algorithm called `Decision Tree`. Decision trees are flowchart structures that resemble a tree, where an internal node  represents a feature (or attribute), the branch represents a decision rule, and each leaf node represents the outcome. Let's learn a bit more about tree data structure to have a better understanding of decision trees."
   ],
   "id": "510337125d94626f"
  },
  {
   "metadata": {},
   "cell_type": "markdown",
   "source": [
    "### Trees\n",
    "\n",
    "![trees](https://miro.medium.com/v2/resize:fit:1400/0*PZLEPHbPoQVWpEXi)\n",
    "\n",
    "Trees are data structures that are very similar to real-life trees, only difference being the position of the root and the leaves. In tree data structures, `root` node is the start node, and nodes can have different amount of children. Nodes that have no children are called `leaves`."
   ],
   "id": "cedb6f50e5ea2609"
  },
  {
   "metadata": {},
   "cell_type": "markdown",
   "source": [
    "### Decision Trees\n",
    "\n",
    "Very similar to the previously defined trees, the topmost node in a decision tree is known as the root node. It learns to partition on the basis of the attribute value. It partitions the tree in a recursive manner called recursive partitioning. This flowchart-like structure helps you in decision-making. It's visualization like a flowchart diagram which easily mimics the human level thinking. That is why decision trees are easy to understand and interpret.\n",
    "\n",
    "![dec-tree](https://miro.medium.com/v2/resize:fit:1400/1*kwCh2-U02xf-EWaTt3Xr4w.png)\n",
    "\n",
    "One important thing to note is that decision tree is a `white-box algorithm`, meaning that it shares the internal decision-making logic, unlike the algorithms we previously learned, or the very famous one we will learn `neural networks`. \n",
    "\n",
    "The time complexity of decision trees is a function of the number of records and attributes in the given data. The decision tree is a distribution-free or non-parametric method which does not depend upon probability distribution assumptions. Decision trees can handle high-dimensional data with good accuracy. "
   ],
   "id": "41591329b466ae37"
  },
  {
   "metadata": {},
   "cell_type": "markdown",
   "source": [
    "### But how does it work?\n",
    "\n",
    "- The very beginning of decision-tree algorithm is to choose the `nodes`. That is, we need to assign a node to each of the attributes in the dataset. The most important attribute is placed at the root node.\n",
    "- For evaluating the task in hand, we start at the root node, and we work our way down the tree by following the corresponding node that meets our condition or decision.\n",
    "- This process continues until a leaf node is reached. It contains the prediction or the outcome of the Decision Tree.\n",
    "\n",
    "How we choose the attributes and rank their importance is called `attributes selection`. There are different attributes selection measure to identify the attribute which can be considered as the root node at each level, and the two popular ones are\n",
    "\n",
    "- `Information gain`: Used for categorical attributes\n",
    "- `Gini index`: Used for attributes that are assumed to be continuous"
   ],
   "id": "4c61a01b4e5d3f32"
  },
  {
   "metadata": {},
   "cell_type": "markdown",
   "source": [
    "### Information Gain\n",
    "- By using information gain as a criterion, we try to estimate the information contained by each attribute. To understand the concept of Information Gain, we need to know another concept called Entropy.\n",
    "#### Entropy\n",
    "- Entropy measures the impurity in the given dataset. In Physics and Mathematics, entropy is referred to as the randomness or uncertainty of a random variable X. In information theory, it refers to the impurity in a group of examples. Information gain is the decrease in entropy. Information gain computes the difference between entropy before split and average entropy after split of the dataset based on given attribute values.\n",
    "- Entropy is calculated with the formula\n",
    "\n",
    "$$\n",
    "\\text{Entropy} = H(X) = - \\sum_{i=1}^{n} P(x_i) \\log_2 P(x_i)\n",
    "$$\n",
    "\n",
    "Where `n` is the number of classes and `P` is the probability associated with that class.\n"
   ],
   "id": "7746803066c8098d"
  },
  {
   "metadata": {},
   "cell_type": "markdown",
   "source": [
    "### Gini Index\n",
    "- Another attribute selection measure that `CART (Categorical and Regression Trees)` uses is the Gini index. It uses the Gini method to create split points.\n",
    "- Gini index is calculated with the formula\n",
    "\n",
    "$$\n",
    "\\text{Gini} = 1 - \\sum_{i=1}^{n} P(x_i)^2\n",
    "$$\n",
    "\n",
    "Where `n` is the number of classes and `p` is the probability associated with that class.\n",
    "\n",
    "- Gini index says, if we randomly select two items from a population, they must be of the same class and probability for this is 1 if the population is pure.\n",
    "\n",
    "- It works with the categorical target variable “Success” or “Failure”. It performs only binary splits. The higher the value of Gini, higher the homogeneity. CART (Classification and Regression Tree) uses the Gini method to create binary splits."
   ],
   "id": "4ee36f0cca8ffe31"
  },
  {
   "metadata": {},
   "cell_type": "markdown",
   "source": [
    "### Overfitting in decision algorithms\n",
    "- Overfitting is a practical problem while building a Decision-Tree model. The problem of overfitting is considered when the algorithm continues to go deeper and deeper to reduce the training-set error but results with an increased test-set error. So, accuracy of prediction for our model goes down. It generally happens when we build many branches due to outliers and irregularities in data.\n",
    "- There are two main approaches to avoid overfitting, `Pre-Pruning` and `Post-Pruning`. \n",
    "- `Pre-Pruning`: We stop the tree construction a bit early. We prefer not to split a node if its goodness measure is below a threshold value. But it is difficult to choose an appropriate stopping point.\n",
    "- `Post-Pruning`: We go deeper and deeper in the tree to build a complete tree. If the tree shows the overfitting problem then pruning is done as a post-pruning step. We use the cross-validation data to check the effect of our pruning. Using cross-validation data, we test whether expanding a node will result in improve or not. If it shows an improvement, then we can continue by expanding that node. But if it shows a reduction in accuracy then it should not be expanded. So, the node should be converted to a leaf node."
   ],
   "id": "81141fe57eb21afe"
  },
  {
   "metadata": {},
   "cell_type": "markdown",
   "source": "## Now that we have enough theoretical information about decision trees, let's start implementing our own model!",
   "id": "d1d84208b7ae8e44"
  },
  {
   "metadata": {},
   "cell_type": "code",
   "source": [
    "from typing import Any\n",
    "\n",
    "# Import the libraries\n",
    "\n",
    "import pandas as pd\n",
    "from numpy import signedinteger\n",
    "from sklearn.datasets import load_iris\n",
    "import seaborn as sns\n",
    "from sklearn.model_selection import train_test_split\n",
    "from sklearn.metrics import accuracy_score, confusion_matrix, classification_report\n",
    "import numpy as np\n",
    "import matplotlib.pyplot as plt"
   ],
   "id": "88cd525ad634f1eb",
   "outputs": [],
   "execution_count": null
  },
  {
   "metadata": {},
   "cell_type": "markdown",
   "source": "We are going to use a dataset called `Iris`, a very famous dataset by the British statistician and biologist Ronald Fisher. ",
   "id": "2e109ff4623df800"
  },
  {
   "metadata": {},
   "cell_type": "code",
   "source": [
    "# Load the iris dataset\n",
    "iris = load_iris()\n",
    "X = iris.data\n",
    "y = iris.target\n",
    "feature_names = iris.feature_names\n",
    "class_names = iris.target_names\n",
    "\n",
    "# Convert to DataFrame for easier manipulation\n",
    "iris_df = pd.DataFrame(X, columns=feature_names)\n",
    "iris_df['target'] = y\n",
    "iris_df['species'] = iris_df['target'].apply(lambda x: class_names[x])"
   ],
   "id": "ad31b0759e3dea3d",
   "outputs": [],
   "execution_count": null
  },
  {
   "metadata": {},
   "cell_type": "code",
   "source": [
    "# Display the first few rows of the dataset\n",
    "print(\"First few rows of the Iris dataset:\")\n",
    "print(iris_df.head())"
   ],
   "id": "f2b4b6638b08bf49",
   "outputs": [],
   "execution_count": null
  },
  {
   "metadata": {},
   "cell_type": "code",
   "source": [
    "# Statistical summary of the dataset\n",
    "print(\"\\nStatistical summary of the dataset:\")\n",
    "print(iris_df.describe())"
   ],
   "id": "22a801758ade0dd3",
   "outputs": [],
   "execution_count": null
  },
  {
   "metadata": {},
   "cell_type": "code",
   "source": [
    "# Pairplot to visualize relationships between features\n",
    "sns.pairplot(iris_df, hue='species', markers=[\"o\", \"s\", \"D\"])\n",
    "plt.suptitle(\"Pairplot of Iris Dataset\", y=1.02)\n",
    "plt.show()"
   ],
   "id": "43121aef9284e770",
   "outputs": [],
   "execution_count": null
  },
  {
   "metadata": {},
   "cell_type": "code",
   "source": [
    "# Correlation matrix heatmap\n",
    "plt.figure(figsize=(10, 8))\n",
    "corr_matrix = iris_df.drop(columns=['species']).corr()\n",
    "sns.heatmap(corr_matrix, annot=True, cmap='coolwarm', linewidths=0.5)\n",
    "plt.title('Heatmap of Feature Correlations in Iris Dataset')\n",
    "plt.show()"
   ],
   "id": "c5b588d73526135f",
   "outputs": [],
   "execution_count": null
  },
  {
   "metadata": {},
   "cell_type": "markdown",
   "source": "Now that we have overall information of what our dataset looks like, lets start implementing our own model.",
   "id": "23c5bd5acb11e3e7"
  },
  {
   "metadata": {},
   "cell_type": "code",
   "source": [
    "# Split the data into training and testing sets\n",
    "X_train, X_test, y_train, y_test = train_test_split(X, y, test_size=0.2, random_state=42)"
   ],
   "id": "5a3cba470c0b6e76",
   "outputs": [],
   "execution_count": null
  },
  {
   "metadata": {},
   "cell_type": "code",
   "source": [
    "class Node:\n",
    "    def __init__(self, feature: int = None, threshold: float = None, left: 'Node' = None, right: 'Node' = None, value: int = None):\n",
    "        self.feature = feature\n",
    "        self.threshold = threshold\n",
    "        self.left = left\n",
    "        self.right = right\n",
    "        self.value = value\n",
    "\n",
    "    def is_leaf_node(self):\n",
    "        return self.value is not None"
   ],
   "id": "bd65d03a140189ad",
   "outputs": [],
   "execution_count": null
  },
  {
   "metadata": {},
   "cell_type": "markdown",
   "source": [
    "`Node` is a class that will represent the nodes of our decision tree, and it will have several attributes as shown above. Let's learn what does attributes are.\n",
    "\n",
    "- `feature`: The index of the feature used to split the data at this node. For internal nodes, this attribute indicates which feature (column) of the dataset is used for the decision. For leaf nodes, this attribute is `None`.\n",
    "\n",
    "- `threshold`: The value of the feature that the data is compared against at this node. For internal nodes, this attribute specifies the value used to split the data into left and right branches. For leaf nodes, this attribute is `None`.\n",
    "\n",
    "- `left`: The left child node. This attribute points to the left subtree, which contains the data points that satisfy the condition `feature <= threshold`. For leaf nodes, this attribute is `None`.\n",
    "\n",
    "- `right`: The right child node. This attribute points to the right subtree, which contains the data points that satisfy the condition `feature > threshold`. For leaf nodes, this attribute is `None`.\n",
    "\n",
    "- `value`: The predicted class for leaf nodes. This attribute holds the class label that is the majority class of the samples reaching the leaf. For internal nodes, this attribute is `None`.\n",
    "\n",
    "- `is_leaf_node`: This method checks whether the node is a leaf node. It returns True if the value attribute is not `None` (indicating it's a leaf node), and False otherwise."
   ],
   "id": "f250c29dac8c3542"
  },
  {
   "metadata": {},
   "cell_type": "markdown",
   "source": "Now lets implement the tree using this Node class",
   "id": "97e22caf4e5de127"
  },
  {
   "metadata": {},
   "cell_type": "code",
   "source": [
    "class DecisionTree:\n",
    "    def __init__(self, max_depth: int = None):\n",
    "        self.max_depth = max_depth\n",
    "        self.tree = None\n",
    "\n",
    "    def get_params(self, deep=None):\n",
    "        \"\"\"\n",
    "        Return parameters for this estimator.\n",
    "        \"\"\"\n",
    "        return {\"max_depth\": self.max_depth}\n",
    "\n",
    "    def set_params(self, **params):\n",
    "        \"\"\"\n",
    "        Set the parameters of this estimator.\n",
    "        \"\"\"\n",
    "        for key, value in params.items():\n",
    "            setattr(self, key, value)\n",
    "        return self\n",
    "    \n",
    "    @staticmethod\n",
    "    def _gini(y: np.ndarray) -> float:\n",
    "        \"\"\"\n",
    "        Calculate the Gini impurity for a list of labels.\n",
    "        \"\"\"\n",
    "        m = len(y)\n",
    "        return 1.0 - sum((np.sum(y == c) / m) ** 2 for c in np.unique(y))\n",
    "\n",
    "    def _information_gain(self, y: np.ndarray, y_left: np.ndarray, y_right: np.ndarray) -> float:\n",
    "        \"\"\"\n",
    "        Calculate the information gain of a split.\n",
    "        \"\"\"\n",
    "        p = float(len(y_left)) / len(y)\n",
    "        return self._gini(y) - p * self._gini(y_left) - (1 - p) * self._gini(y_right)\n",
    "\n",
    "    @staticmethod\n",
    "    def _split(X: np.ndarray, y: np.ndarray, feature: int, threshold: float):\n",
    "        \"\"\"\n",
    "        Split the dataset based on a feature and a threshold.\n",
    "        \"\"\"\n",
    "        left_mask = X[:, feature] <= threshold\n",
    "        right_mask = X[:, feature] > threshold\n",
    "        return X[left_mask], X[right_mask], y[left_mask], y[right_mask]\n",
    "\n",
    "    def _best_split(self, X: np.ndarray, y: np.ndarray):\n",
    "        \"\"\"\n",
    "        Find the best split for the dataset.\n",
    "        \"\"\"\n",
    "        best_feature, best_threshold, best_gain = None, None, -1\n",
    "        n_features = X.shape[1]\n",
    "\n",
    "        for feature in range(n_features):\n",
    "            thresholds = np.unique(X[:, feature])\n",
    "            for threshold in thresholds:\n",
    "                X_left, X_right, y_left, y_right = self._split(X, y, feature, threshold)\n",
    "                if len(y_left) == 0 or len(y_right) == 0:\n",
    "                    continue\n",
    "\n",
    "                gain = self._information_gain(y, y_left, y_right)\n",
    "                if gain > best_gain:\n",
    "                    best_gain, best_feature, best_threshold = gain, feature, threshold\n",
    "\n",
    "        return best_feature, best_threshold\n",
    "\n",
    "    def _build_tree(self, X: np.ndarray, y: np.ndarray, depth: int = 0) -> Node:\n",
    "        \"\"\"\n",
    "        Build the decision tree recursively.\n",
    "        \"\"\"\n",
    "        n_samples, n_features = X.shape\n",
    "        n_labels = len(np.unique(y))\n",
    "\n",
    "        if n_labels == 1 or n_samples == 0 or (self.max_depth and depth >= self.max_depth):\n",
    "            leaf_value = self._most_common_label(y)\n",
    "            return Node(value=leaf_value)\n",
    "\n",
    "        feature, threshold = self._best_split(X, y)\n",
    "        if feature is None:\n",
    "            leaf_value = self._most_common_label(y)\n",
    "            return Node(value=leaf_value)\n",
    "\n",
    "        X_left, X_right, y_left, y_right = self._split(X, y, feature, threshold)\n",
    "        left_child = self._build_tree(X_left, y_left, depth + 1)\n",
    "        right_child = self._build_tree(X_right, y_right, depth + 1)\n",
    "        return Node(feature=feature, threshold=threshold, left=left_child, right=right_child)\n",
    "\n",
    "    def fit(self, X: np.ndarray, y: np.ndarray):\n",
    "        \"\"\"\n",
    "        Fit the decision tree to the training data.\n",
    "        \"\"\"\n",
    "        self.tree = self._build_tree(X, y)\n",
    "\n",
    "    @staticmethod\n",
    "    def _most_common_label(y: np.ndarray) -> signedinteger[Any]:\n",
    "        \"\"\"\n",
    "        Find the most common label in a list of labels.\n",
    "        \"\"\"\n",
    "        return np.bincount(y).argmax()\n",
    "\n",
    "    def _traverse_tree(self, x: np.ndarray, node: Node) -> int:\n",
    "        \"\"\"\n",
    "        Traverse the decision tree to make a prediction.\n",
    "        \"\"\"\n",
    "        if node.is_leaf_node():\n",
    "            return node.value\n",
    "\n",
    "        if x[node.feature] <= node.threshold:\n",
    "            return self._traverse_tree(x, node.left)\n",
    "        return self._traverse_tree(x, node.right)\n",
    "\n",
    "    def predict(self, X: np.ndarray) -> np.ndarray:\n",
    "        \"\"\"\n",
    "        Predict the labels for a dataset.\n",
    "        \"\"\"\n",
    "        return np.array([self._traverse_tree(x, self.tree) for x in X])"
   ],
   "id": "dc2ce89762eca95",
   "outputs": [],
   "execution_count": null
  },
  {
   "metadata": {},
   "cell_type": "markdown",
   "source": "Now let's create an instance of this model and train it using our dataset",
   "id": "c7702a5d3ac8a57f"
  },
  {
   "metadata": {},
   "cell_type": "code",
   "source": [
    "decision_tree = DecisionTree(max_depth=3)\n",
    "decision_tree.fit(X_train, y_train)"
   ],
   "id": "97f8629f236316e9",
   "outputs": [],
   "execution_count": null
  },
  {
   "metadata": {},
   "cell_type": "code",
   "source": [
    "# Predict the class for the test set\n",
    "y_pred = decision_tree.predict(X_test)"
   ],
   "id": "3b9a0a8920a15613",
   "outputs": [],
   "execution_count": null
  },
  {
   "metadata": {},
   "cell_type": "code",
   "source": [
    "# Evaluate the model\n",
    "accuracy = accuracy_score(y_test, y_pred)\n",
    "conf_matrix = confusion_matrix(y_test, y_pred)\n",
    "class_report = classification_report(y_test, y_pred, target_names=class_names)\n",
    "\n",
    "print(f\"Accuracy: {accuracy:.2f}\")\n",
    "print(\"\\nConfusion Matrix:\")\n",
    "print(conf_matrix)\n",
    "print(\"\\nClassification Report:\")\n",
    "print(class_report)"
   ],
   "id": "3b5aedcd0171b382",
   "outputs": [],
   "execution_count": null
  },
  {
   "metadata": {},
   "cell_type": "markdown",
   "source": "Something seems off. Our model has `100%` accuracy on every class, that is, our model correctly guessed every single flower's species in the test set. Is this acceptable, or is our model overfitting? Let's inspect this further.",
   "id": "8341faefede6a9c5"
  },
  {
   "metadata": {},
   "cell_type": "code",
   "source": [
    "from sklearn.model_selection import cross_val_score\n",
    "\n",
    "# Initialize the Decision Tree model\n",
    "decision_tree = DecisionTree(max_depth=10)\n",
    "\n",
    "# Perform 5-fold cross-validation\n",
    "scores = cross_val_score(decision_tree, X, y, cv=5, scoring='accuracy')\n",
    "\n",
    "# Print the cross-validation scores\n",
    "print(f\"Cross-Validation Scores: {scores}\")\n",
    "print(f\"Mean Accuracy: {np.mean(scores):.2f}\")\n",
    "print(f\"Standard Deviation: {np.std(scores):.2f}\")\n"
   ],
   "id": "e5ba08f43f7b0252",
   "outputs": [],
   "execution_count": null
  },
  {
   "metadata": {},
   "cell_type": "markdown",
   "source": "What does this tell about our model? Here, we made use of a process called cross-validation.",
   "id": "6663e3a4c8e1dfcb"
  },
  {
   "metadata": {},
   "cell_type": "markdown",
   "source": [
    "### Cross-Validation\n",
    "Cross-validation is a statistical technique used to evaluate and improve the performance of machine learning models. It involves partitioning the dataset into multiple subsets, training the model on some subsets while testing it on the remaining ones. The key objective of cross-validation is to assess how well the model generalizes to an independent dataset, i.e., how it performs on unseen data. Steps in `k-fold` are as follows:\n",
    "- `Shuffle the dataset`: Randomly shuffle the dataset to ensure that the data is well mixed.\n",
    "- `Split the dataset`: Divide the dataset into k equal-sized folds.\n",
    "- `Train and validate`: For each fold, use k−1 folds to train the model and use the remaining one fold to test the model.\n",
    "- `Calculate performance`: Compute the performance metric for each fold.\n",
    "- `Aggregate results`: Average the performance metrics across all folds to obtain an overall performance estimate."
   ],
   "id": "c4929115b12a6375"
  },
  {
   "metadata": {},
   "cell_type": "markdown",
   "source": [
    "#### What about our cross-validation results?\n",
    "- `Scores`: [1.0, 0.96666667, 0.86666667, 0.93333333, 0.73333333]\n",
    "    - - These scores represent the accuracy of the model on five different folds\n",
    "    - - The model achieved perfect accuracy (1.0) on one fold, indicating that it correctly classified all instances in that fold.\n",
    "    - - The lowest accuracy (0.73333333) shows that the model made some errors on that particular fold.\n",
    "\n",
    "- `Mean Accuracy`: 0.90\n",
    "    - - A mean accuracy of 0.90 indicates that, on average, the model correctly classifies 90% of the instances.\n",
    "\n",
    "- `Standard Deviation`: 0.09\n",
    "    - - A standard deviation of 0.09 indicates that the accuracy scores vary by about 9% from the mean accuracy."
   ],
   "id": "83b5f1b7834b00f8"
  },
  {
   "metadata": {},
   "cell_type": "markdown",
   "source": [
    "## Our model is up and working properly, now it is ready to be used with different datasets!\n",
    "\n",
    "#### Thank you for attending today's workshop where we learned what `Decision Tree` algorithm is, how it works, and how it is implemented from scratch in Python. See you in the following weeks with new workshops on Machine Learning."
   ],
   "id": "7483cfbffde1511d"
  }
 ],
 "metadata": {
  "kernelspec": {
   "display_name": "Python 3",
   "language": "python",
   "name": "python3"
  },
  "language_info": {
   "codemirror_mode": {
    "name": "ipython",
    "version": 2
   },
   "file_extension": ".py",
   "mimetype": "text/x-python",
   "name": "python",
   "nbconvert_exporter": "python",
   "pygments_lexer": "ipython2",
   "version": "2.7.6"
  }
 },
 "nbformat": 4,
 "nbformat_minor": 5
}
