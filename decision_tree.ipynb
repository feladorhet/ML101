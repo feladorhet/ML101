{
 "cells": [
  {
   "metadata": {},
   "cell_type": "markdown",
   "source": [
    "# Welcome to our Decision Trees Workshop!\n",
    "\n",
    "In our previous workshop, we learned logistic regression, a strong classification algorithm that makes use of `sigmoid` function to predict the class to which the objects belong. Now, we are going to learn a new classification algorithm called `Decision Tree`. Decision trees are flowchart structures that resemble a tree, where an internal node  represents a feature (or attribute), the branch represents a decision rule, and each leaf node represents the outcome."
   ],
   "id": "510337125d94626f"
  },
  {
   "metadata": {},
   "cell_type": "code",
   "outputs": [],
   "execution_count": null,
   "source": "",
   "id": "initial_id"
  }
 ],
 "metadata": {
  "kernelspec": {
   "display_name": "Python 3",
   "language": "python",
   "name": "python3"
  },
  "language_info": {
   "codemirror_mode": {
    "name": "ipython",
    "version": 2
   },
   "file_extension": ".py",
   "mimetype": "text/x-python",
   "name": "python",
   "nbconvert_exporter": "python",
   "pygments_lexer": "ipython2",
   "version": "2.7.6"
  }
 },
 "nbformat": 4,
 "nbformat_minor": 5
}
